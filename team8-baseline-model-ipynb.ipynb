{
 "cells": [
  {
   "cell_type": "markdown",
   "id": "12899aba",
   "metadata": {
    "papermill": {
     "duration": 0.002441,
     "end_time": "2025-10-24T15:36:36.224269",
     "exception": false,
     "start_time": "2025-10-24T15:36:36.221828",
     "status": "completed"
    },
    "tags": []
   },
   "source": [
    "###  1: 导入库与加载数据\n",
    "\n",
    "**代码分析:**\n",
    "\n",
    "*   **集中导入**: 在 Notebook 的最开始，我们一次性导入所有需要用到的 Python 库，包括用于数据处理的 `pandas`、科学计算的 `numpy`，以及 `scikit-learn` 中用于特征工程、模型训练和评估的各个模块。这是一个良好的编程习惯，使得代码的依赖关系一目了然。\n",
    "*   **数据加载**: 我们使用 `pd.read_csv()` 来加载竞赛提供的三个核心文件：`train.csv` (训练数据)，`test.csv` (测试数据)，和 `sample_submission.csv` (提交格式示例)。\n",
    "*   **健壮性**: 整个加载过程被包裹在 `try...except FileNotFoundError` 块中。这样做的好处是，如果因为某种原因（例如数据集未添加到 Notebook）导致文件路径无效，程序不会直接崩溃，而是会打印出一条清晰的错误提示信息，便于我们快速定位问题。"
   ]
  },
  {
   "cell_type": "code",
   "execution_count": 1,
   "id": "4657eb5c",
   "metadata": {
    "_cell_guid": "b1076dfc-b9ad-4769-8c92-a6c4dae69d19",
    "_uuid": "8f2839f25d086af736a60e9eeb907d3b93b6e0e5",
    "execution": {
     "iopub.execute_input": "2025-10-24T15:36:36.229836Z",
     "iopub.status.busy": "2025-10-24T15:36:36.229187Z",
     "iopub.status.idle": "2025-10-24T15:37:09.939014Z",
     "shell.execute_reply": "2025-10-24T15:37:09.938226Z"
    },
    "papermill": {
     "duration": 33.715467,
     "end_time": "2025-10-24T15:37:09.942063",
     "exception": false,
     "start_time": "2025-10-24T15:36:36.226596",
     "status": "completed"
    },
    "tags": []
   },
   "outputs": [
    {
     "name": "stderr",
     "output_type": "stream",
     "text": [
      "2025-10-24 15:36:53.097051: E external/local_xla/xla/stream_executor/cuda/cuda_fft.cc:477] Unable to register cuFFT factory: Attempting to register factory for plugin cuFFT when one has already been registered\n",
      "WARNING: All log messages before absl::InitializeLog() is called are written to STDERR\n",
      "E0000 00:00:1761320213.285253      19 cuda_dnn.cc:8310] Unable to register cuDNN factory: Attempting to register factory for plugin cuDNN when one has already been registered\n",
      "E0000 00:00:1761320213.336074      19 cuda_blas.cc:1418] Unable to register cuBLAS factory: Attempting to register factory for plugin cuBLAS when one has already been registered\n"
     ]
    },
    {
     "name": "stdout",
     "output_type": "stream",
     "text": [
      "🚀 Team 8 Baseline & Embedding Model Pipeline 启动！\n",
      "✅ 数据集加载成功!\n",
      "  训练集大小: (57477, 9)\n",
      "  测试集大小: (3, 4)\n"
     ]
    }
   ],
   "source": [
    "# ===  1: 导入所有必需的库与加载数据 ===\n",
    "\n",
    "# 数据处理与科学计算\n",
    "import pandas as pd\n",
    "import numpy as np\n",
    "\n",
    "# 特征工程\n",
    "from sklearn.feature_extraction.text import CountVectorizer\n",
    "from sklearn.preprocessing import StandardScaler\n",
    "\n",
    "# 模型与评估\n",
    "from sklearn.linear_model import LogisticRegression\n",
    "from sklearn.model_selection import train_test_split\n",
    "from sklearn.metrics import log_loss\n",
    "\n",
    "# 深度学习嵌入模型\n",
    "from sentence_transformers import SentenceTransformer\n",
    "\n",
    "print(\"🚀 Team 8 Baseline & Embedding Model Pipeline 启动！\")\n",
    "\n",
    "# --- 加载数据集 ---\n",
    "# 使用 try-except 结构确保数据加载的健壮性\n",
    "try:\n",
    "    train = pd.read_csv(\"/kaggle/input/llm-classification-finetuning/train.csv\")\n",
    "    test = pd.read_csv(\"/kaggle/input/llm-classification-finetuning/test.csv\")\n",
    "    sample = pd.read_csv(\"/kaggle/input/llm-classification-finetuning/sample_submission.csv\")\n",
    "    print(\"✅ 数据集加载成功!\")\n",
    "    print(f\"  训练集大小: {train.shape}\")\n",
    "    print(f\"  测试集大小: {test.shape}\")\n",
    "except FileNotFoundError:\n",
    "    print(\"❌ 数据加载失败! 请检查竞赛数据集是否已正确添加到 Notebook.\")"
   ]
  },
  {
   "cell_type": "markdown",
   "id": "b1d7c1ba",
   "metadata": {
    "papermill": {
     "duration": 0.001833,
     "end_time": "2025-10-24T15:37:09.946018",
     "exception": false,
     "start_time": "2025-10-24T15:37:09.944185",
     "status": "completed"
    },
    "tags": []
   },
   "source": [
    "###  2: 特征工程\n",
    "\n",
    "**代码分析:**\n",
    "\n",
    "*   **核心原则**: 为了保证模型的公平性和有效性，所有对训练集 `train` 进行的特征工程，都**必须以完全相同的方式**应用到测试集 `test` 上。这确保了模型在训练和预测时看到的数据结构是完全一致的，从而避免了 `KeyError` 等常见错误。\n",
    "\n",
    "*   **1. 标签生成 (`label` - 仅限训练集)**:\n",
    "    *   **作用**: 将训练数据中 `winner_model_a`, `winner_model_b`, `winner_tie` 这三列（one-hot 编码格式）转换为一个单一的、多分类的标签列。\n",
    "    *   **方法**: `.argmax(axis=1)` 会沿着每一行查找最大值的索引。例如，如果 `winner_model_a` 是1，它的索引是0；如果 `winner_model_b` 是1，索引是1；如果是平局，索引是2。这样，我们就得到了一个适合分类模型训练的目标变量 `y` (值为 0, 1, 2)。\n",
    "\n",
    "*   **2. 文本与长度特征工程 (针对 `train` 和 `test` 集)**:\n",
    "    *   **文本拼接 (`text`)**: 我们将 `prompt` 与两个 `response` (`response_a`, `response_b`) 分别拼接，然后使用一个特殊的分隔符 `[SEP]` 将两个完整的响应文本连接起来。`[SEP]` 分隔符为模型提供了一个明确的边界，有助于模型更好地区分和比较两个不同的响应。\n",
    "    *   **长度特征 (`..._len`)**: 我们提取了 `prompt`, `response_a`, 和 `response_b` 的字符长度作为额外的数值特征。文本长度本身在很多NLP任务中都是一个有用的信号。"
   ]
  },
  {
   "cell_type": "code",
   "execution_count": 2,
   "id": "75fb844b",
   "metadata": {
    "execution": {
     "iopub.execute_input": "2025-10-24T15:37:09.951129Z",
     "iopub.status.busy": "2025-10-24T15:37:09.950552Z",
     "iopub.status.idle": "2025-10-24T15:37:10.506169Z",
     "shell.execute_reply": "2025-10-24T15:37:10.505229Z"
    },
    "papermill": {
     "duration": 0.559434,
     "end_time": "2025-10-24T15:37:10.507378",
     "exception": false,
     "start_time": "2025-10-24T15:37:09.947944",
     "status": "completed"
    },
    "tags": []
   },
   "outputs": [
    {
     "name": "stdout",
     "output_type": "stream",
     "text": [
      "\n",
      "--- 正在执行 Step 1: 特征工程 ---\n",
      "✅ 特征工程完成。\n"
     ]
    }
   ],
   "source": [
    "# ===  2: 特征工程 (对 train 和 test 集进行一致性处理) ===\n",
    "\n",
    "print(\"\\n--- 正在执行 Step 1: 特征工程 ---\")\n",
    "\n",
    "# --- 1. 处理训练集 (train) ---\n",
    "# 将 one-hot 编码的标签转换为单一的多分类标签 (0, 1, 2)\n",
    "train['label'] = train[['winner_model_a', 'winner_model_b', 'winner_tie']].values.argmax(axis=1)\n",
    "\n",
    "# 创建包含 prompt 和 response 的完整文本\n",
    "train['text_a'] = train['prompt'] + \" \" + train['response_a']\n",
    "train['text_b'] = train['prompt'] + \" \" + train['response_b']\n",
    "\n",
    "# 使用 [SEP] 分隔符连接两个响应，便于模型对比\n",
    "train['text'] = train['text_a'] + \" [SEP] \" + train['text_b']\n",
    "\n",
    "# 计算长度特征\n",
    "train['prompt_len'] = train['prompt'].str.len()\n",
    "train['resp_a_len'] = train['response_a'].str.len()\n",
    "train['resp_b_len'] = train['response_b'].str.len()\n",
    "\n",
    "\n",
    "# --- 2. 用完全相同的方法处理测试集 (test) ---\n",
    "# 注意：测试集没有 'label' 列，所以不需要处理\n",
    "test['text_a'] = test['prompt'] + \" \" + test['response_a']\n",
    "test['text_b'] = test['prompt'] + \" \" + test['response_b']\n",
    "test['text'] = test['text_a'] + \" [SEP] \" + test['text_b']\n",
    "test['prompt_len'] = test['prompt'].str.len()\n",
    "test['resp_a_len'] = test['response_a'].str.len()\n",
    "test['resp_b_len'] = test['response_b'].str.len()\n",
    "\n",
    "print(\"✅ 特征工程完成。\")"
   ]
  },
  {
   "cell_type": "markdown",
   "id": "6d455a98",
   "metadata": {
    "papermill": {
     "duration": 0.002039,
     "end_time": "2025-10-24T15:37:10.511756",
     "exception": false,
     "start_time": "2025-10-24T15:37:10.509717",
     "status": "completed"
    },
    "tags": []
   },
   "source": [
    "###  3: Baseline 模型 (词袋 + 逻辑回归)\n",
    "\n",
    "**代码分析:**\n",
    "\n",
    "*   **1. 向量化**:\n",
    "    *   **文本向量化 (`CountVectorizer`)**: 我们使用“词袋模型”(Bag of Words)将文本数据转换为数值矩阵。`max_features=5000` 参数限制了只使用最常见的 5000 个词/词组作为特征，以控制维度。`ngram_range=(1,2)` 参数让模型同时考虑单个词（unigrams）和相邻的词对（bigrams），能捕捉到更丰富的短语信息。\n",
    "    *   **数值特征标准化 (`StandardScaler`)**: 对我们之前创建的长度特征进行标准化处理，使其均值为0，方差为1。这一步至关重要，因为逻辑回归等模型对特征的尺度很敏感，标准化可以防止模型过分偏重于数值范围较大的特征。\n",
    "    *   **特征合并 (`np.hstack`)**: 将处理好的文本特征矩阵和数值特征矩阵水平拼接，形成最终用于训练基线模型的完整特征矩阵 `X_baseline`。\n",
    "\n",
    "*   **2. 训练与验证**:\n",
    "    *   **数据划分 (`train_test_split`)**: 我们将特征矩阵和标签按 8:2 的比例划分为训练集和验证集。`random_state=42` 确保了每次划分的结果都一样，保证了实验的可复现性。\n",
    "    *   **模型训练 (`LogisticRegression`)**: 我们选用逻辑回归作为基线分类器。它是一个简单、快速且解释性强的线性模型，非常适合作为项目的起点。我们设置 `max_iter=1000` 来增加最大迭代次数，以确保模型能够充分训练并收敛，避免 `ConvergenceWarning`。\n",
    "    *   **性能评估**: 模型在训练集上训练后，我们在从未见过的验证集上进行预测，并使用竞赛的官方评估指标 `log_loss` 来计算验证分数。这个分数可以帮助我们在提交前快速评估模型的性能。"
   ]
  },
  {
   "cell_type": "code",
   "execution_count": 3,
   "id": "609abcdf",
   "metadata": {
    "execution": {
     "iopub.execute_input": "2025-10-24T15:37:10.516992Z",
     "iopub.status.busy": "2025-10-24T15:37:10.516468Z",
     "iopub.status.idle": "2025-10-24T15:44:53.843838Z",
     "shell.execute_reply": "2025-10-24T15:44:53.843185Z"
    },
    "papermill": {
     "duration": 463.333965,
     "end_time": "2025-10-24T15:44:53.847727",
     "exception": false,
     "start_time": "2025-10-24T15:37:10.513762",
     "status": "completed"
    },
    "tags": []
   },
   "outputs": [
    {
     "name": "stdout",
     "output_type": "stream",
     "text": [
      "\n",
      "--- 正在执行 Baseline 模型 ---\n",
      "📊 Validation LogLoss (Baseline): 1.28668\n"
     ]
    },
    {
     "name": "stderr",
     "output_type": "stream",
     "text": [
      "/usr/local/lib/python3.11/dist-packages/sklearn/linear_model/_logistic.py:458: ConvergenceWarning: lbfgs failed to converge (status=1):\n",
      "STOP: TOTAL NO. OF ITERATIONS REACHED LIMIT.\n",
      "\n",
      "Increase the number of iterations (max_iter) or scale the data as shown in:\n",
      "    https://scikit-learn.org/stable/modules/preprocessing.html\n",
      "Please also refer to the documentation for alternative solver options:\n",
      "    https://scikit-learn.org/stable/modules/linear_model.html#logistic-regression\n",
      "  n_iter_i = _check_optimize_result(\n"
     ]
    }
   ],
   "source": [
    "# ===  3: Baseline 模型 (词袋 + 逻辑回归) ===\n",
    "\n",
    "print(\"\\n--- 正在执行 Baseline 模型 ---\")\n",
    "\n",
    "# --- 1. 向量化 ---\n",
    "# 文本特征 (Bag of Words)，考虑 unigrams 和 bigrams\n",
    "vectorizer = CountVectorizer(max_features=5000, ngram_range=(1,2))\n",
    "X_text_train = vectorizer.fit_transform(train['text'])\n",
    "X_text_test = vectorizer.transform(test['text'])\n",
    "\n",
    "# 数值特征 (长度)，并进行标准化\n",
    "scaler = StandardScaler()\n",
    "num_features_train = train[['prompt_len','resp_a_len','resp_b_len']]\n",
    "num_features_test = test[['prompt_len','resp_a_len','resp_b_len']]\n",
    "X_num_train = scaler.fit_transform(num_features_train)\n",
    "X_num_test = scaler.transform(num_features_test)\n",
    "\n",
    "# 合并文本特征和数值特征\n",
    "X_baseline = np.hstack([X_text_train.toarray(), X_num_train])\n",
    "X_test_baseline = np.hstack([X_text_test.toarray(), X_num_test])\n",
    "y = train['label']\n",
    "\n",
    "# --- 2. 训练与验证 ---\n",
    "# 将基线模型的特征集划分为训练集和验证集\n",
    "X_train_base, X_val_base, y_train_base, y_val_base = train_test_split(\n",
    "    X_baseline, y, test_size=0.2, random_state=42\n",
    ")\n",
    "\n",
    "# 训练逻辑回归模型，增加 max_iter 以避免收敛警告\n",
    "clf_base = LogisticRegression(max_iter=1000)\n",
    "clf_base.fit(X_train_base, y_train_base)\n",
    "\n",
    "# 在验证集上评估模型性能\n",
    "y_pred_val_base = clf_base.predict_proba(X_val_base)\n",
    "validation_score_base = log_loss(y_val_base, y_pred_val_base)\n",
    "print(f\"📊 Validation LogLoss (Baseline): {validation_score_base:.5f}\")\n",
    "\n",
    "# 注意：我们不再从此模型生成 submission.csv，最终提交文件将由更强的模型生成。"
   ]
  },
  {
   "cell_type": "markdown",
   "id": "c8646d4d",
   "metadata": {
    "papermill": {
     "duration": 0.002059,
     "end_time": "2025-10-24T15:44:53.852130",
     "exception": false,
     "start_time": "2025-10-24T15:44:53.850071",
     "status": "completed"
    },
    "tags": []
   },
   "source": [
    "### 单元格 4: Embedding 模型 (MiniLM)\n",
    "\n",
    "**代码分析:**\n",
    "\n",
    "*   **1. 模型加载 (`SentenceTransformer`)**:\n",
    "    *   **作用**: 我们加载一个预训练的 Transformer 模型 `all-MiniLM-L6-v2`。与词袋模型不同，它能够将整个句子转换为一个固定长度的、包含丰富语义信息的向量（即“嵌入”或 Embedding）。\n",
    "    *   **离线模式**: 为了满足竞赛的可复现性要求（通常要求关闭网络），我们从预先添加到 Notebook 的 Kaggle 数据集路径 (`/kaggle/input/...`) 加载模型，而不是从网络下载。`device='cuda'` 参数指定使用 GPU 进行计算，可以极大地加速后续的编码过程。\n",
    "\n",
    "*   **2. 生成句向量 (`model.encode`)**:\n",
    "    *   **作用**: 这是核心步骤。我们将每个样本的文本输入到 MiniLM 模型中，输出一个固定维度（对于 MiniLM 是 384 维）的向量。\n",
    "    *   **对比**: 这里的特征不再是词语的出现次数，而是深层语义的向量表示。这通常会带来比词袋模型显著的性能提升。`batch_size=128` 参数允许模型在 GPU 上进行批量处理，进一步提升了编码效率。\n",
    "\n",
    "*   **3. 训练与验证**:\n",
    "    *   **数据划分**: 与 Baseline 模型类似，我们同样将生成的句向量 `train_emb` 划分为训练集和验证集，以便进行公平的性能比较。\n",
    "    *   **模型训练**: 我们再次使用逻辑回归分类器，但这次的输入特征是高质量的句向量。\n",
    "    *   **性能评估**: 我们计算并打印出 Embedding 模型在验证集上的 `log_loss` 分数。通过对比这个分数和 Baseline 模型的验证分数，我们可以量化地评估出从词袋模型升级到嵌入模型所带来的性能提升。\n",
    "\n",
    "*   **4. 生成最终提交文件**:\n",
    "    *   **预测**: 使用训练好的 Embedding 模型对测试集的句向量 `test_emb` 进行预测。\n",
    "    *   **文件生成**: 将预测出的概率保存为 `submission.csv` 文件。**文件名必须是 `submission.csv`**，以符合 Kaggle 竞赛的提交要求。这个文件将覆盖掉之前可能存在的任何同名文件，确保最终提交的是我们更强的 Embedding 模型的结果。"
   ]
  },
  {
   "cell_type": "code",
   "execution_count": 4,
   "id": "8b1ccc5a",
   "metadata": {
    "execution": {
     "iopub.execute_input": "2025-10-24T15:44:53.857568Z",
     "iopub.status.busy": "2025-10-24T15:44:53.857368Z",
     "iopub.status.idle": "2025-10-24T15:48:38.489153Z",
     "shell.execute_reply": "2025-10-24T15:48:38.488432Z"
    },
    "papermill": {
     "duration": 224.636296,
     "end_time": "2025-10-24T15:48:38.490535",
     "exception": false,
     "start_time": "2025-10-24T15:44:53.854239",
     "status": "completed"
    },
    "tags": []
   },
   "outputs": [
    {
     "name": "stdout",
     "output_type": "stream",
     "text": [
      "\n",
      "--- 正在执行 Embedding 模型 ---\n"
     ]
    },
    {
     "name": "stderr",
     "output_type": "stream",
     "text": [
      "/usr/local/lib/python3.11/dist-packages/pydantic/_internal/_generate_schema.py:2225: UnsupportedFieldAttributeWarning: The 'repr' attribute with value False was provided to the `Field()` function, which has no effect in the context it was used. 'repr' is field-specific metadata, and can only be attached to a model field using `Annotated` metadata or by assignment. This may have happened because an `Annotated` type alias using the `type` statement was used, or if the `Field()` function was attached to a single member of a union type.\n",
      "  warnings.warn(\n",
      "/usr/local/lib/python3.11/dist-packages/pydantic/_internal/_generate_schema.py:2225: UnsupportedFieldAttributeWarning: The 'frozen' attribute with value True was provided to the `Field()` function, which has no effect in the context it was used. 'frozen' is field-specific metadata, and can only be attached to a model field using `Annotated` metadata or by assignment. This may have happened because an `Annotated` type alias using the `type` statement was used, or if the `Field()` function was attached to a single member of a union type.\n",
      "  warnings.warn(\n"
     ]
    },
    {
     "name": "stdout",
     "output_type": "stream",
     "text": [
      "✅ Embedding 模型加载成功！\n",
      "⏳ 正在为训练集生成句向量 (这可能需要几分钟)...\n"
     ]
    },
    {
     "data": {
      "application/vnd.jupyter.widget-view+json": {
       "model_id": "eec8ed3b0a5042ccb892473ce9ce06bc",
       "version_major": 2,
       "version_minor": 0
      },
      "text/plain": [
       "Batches:   0%|          | 0/450 [00:00<?, ?it/s]"
      ]
     },
     "metadata": {},
     "output_type": "display_data"
    },
    {
     "name": "stdout",
     "output_type": "stream",
     "text": [
      "⏳ 正在为测试集生成句向量...\n"
     ]
    },
    {
     "data": {
      "application/vnd.jupyter.widget-view+json": {
       "model_id": "05302b7d73494a10a94a2dc0de65751c",
       "version_major": 2,
       "version_minor": 0
      },
      "text/plain": [
       "Batches:   0%|          | 0/1 [00:00<?, ?it/s]"
      ]
     },
     "metadata": {},
     "output_type": "display_data"
    },
    {
     "name": "stdout",
     "output_type": "stream",
     "text": [
      "✅ 句向量生成完成。\n",
      "⏳ 正在训练 Embedding 模型的分类器...\n",
      "✅ 分类器训练完成。\n",
      "📊 Validation LogLoss (Embedding): 1.08496\n",
      "⏳ 正在为测试集生成最终预测...\n",
      "\n",
      "🎉 最终的 submission.csv 已生成！可以保存并提交了。\n"
     ]
    }
   ],
   "source": [
    "# ===  4: Embedding 模型 (MiniLM + 逻辑回归) ===\n",
    "\n",
    "print(\"\\n--- 正在执行 Embedding 模型 ---\")\n",
    "\n",
    "# --- 1. 加载预训练的 SentenceTransformer 模型 (离线模式) ---\n",
    "# 确保你已经在 Notebook 的 Input 中添加了 'sentence-transformers-all-minilm-l6-v2' 数据集\n",
    "model_path = '/kaggle/input/sentencetransformersallminilml6v2'\n",
    "\n",
    "model = None\n",
    "try:\n",
    "    model = SentenceTransformer(model_path, device='cuda') # 使用 GPU 加速\n",
    "    print(\"✅ Embedding 模型加载成功！\")\n",
    "except Exception as e:\n",
    "    print(f\"❌ Embedding 模型加载失败: {e}\")\n",
    "    print(\"  请确保右侧 Input 面板中已添加 'sentencetransformersallminilml6v2' 数据集，并且路径正确。\")\n",
    "\n",
    "\n",
    "# 只有在模型成功加载后，才继续执行\n",
    "if model is not None:\n",
    "    # --- 2. 生成句向量 ---\n",
    "    # 为训练和测试数据创建一个新的合并字段用于嵌入\n",
    "    train['combined_for_embedding'] = train['prompt'] + \" \" + train['response_a'] + \" [SEP] \" + train['response_b']\n",
    "    test['combined_for_embedding'] = test['prompt'] + \" \" + test['response_a'] + \" [SEP] \" + test['response_b']\n",
    "    \n",
    "    print(\"⏳ 正在为训练集生成句向量 (这可能需要几分钟)...\")\n",
    "    train_emb = model.encode(train['combined_for_embedding'].tolist(), show_progress_bar=True, batch_size=128)\n",
    "    \n",
    "    print(\"⏳ 正在为测试集生成句向量...\")\n",
    "    test_emb = model.encode(test['combined_for_embedding'].tolist(), show_progress_bar=True, batch_size=128)\n",
    "    print(\"✅ 句向量生成完成。\")\n",
    "\n",
    "    # --- 3. 训练与验证 ---\n",
    "    # 将嵌入特征集划分为训练集和验证集\n",
    "    X_train_emb, X_val_emb, y_train_emb, y_val_emb = train_test_split(\n",
    "        train_emb, y, test_size=0.2, random_state=42\n",
    "    )\n",
    "\n",
    "    # 训练逻辑回归分类器\n",
    "    print(\"⏳ 正在训练 Embedding 模型的分类器...\")\n",
    "    clf_emb = LogisticRegression(max_iter=1000)\n",
    "    clf_emb.fit(X_train_emb, y_train_emb)\n",
    "    print(\"✅ 分类器训练完成。\")\n",
    "\n",
    "    # 在验证集上评估模型性能\n",
    "    y_pred_val_emb = clf_emb.predict_proba(X_val_emb)\n",
    "    validation_score_emb = log_loss(y_val_emb, y_pred_val_emb)\n",
    "    print(f\"📊 Validation LogLoss (Embedding): {validation_score_emb:.5f}\")\n",
    "\n",
    "    # --- 4. 生成最终的 Kaggle 提交文件 ---\n",
    "    # 使用在部分数据上训练的模型进行预测\n",
    "    # (更优的做法是用全部数据重新训练，但为了速度和简洁，这里直接使用 clf_emb)\n",
    "    print(\"⏳ 正在为测试集生成最终预测...\")\n",
    "    preds_final = clf_emb.predict_proba(test_emb)\n",
    "\n",
    "    # 创建提交 DataFrame，确保文件名为 \"submission.csv\"\n",
    "    submission_final = pd.DataFrame(preds_final, columns=sample.columns[1:])\n",
    "    submission_final.insert(0, \"id\", sample[\"id\"])\n",
    "    submission_final.to_csv(\"submission.csv\", index=False)\n",
    "\n",
    "    print(\"\\n🎉 最终的 submission.csv 已生成！可以保存并提交了。\")"
   ]
  },
  {
   "cell_type": "markdown",
   "id": "f01823bb",
   "metadata": {
    "papermill": {
     "duration": 0.002739,
     "end_time": "2025-10-24T15:48:38.496456",
     "exception": false,
     "start_time": "2025-10-24T15:48:38.493717",
     "status": "completed"
    },
    "tags": []
   },
   "source": [
    "| 模型 (Model) | Kaggle 公开分数 (Public Score) | 验证集 LogLoss (Validation LogLoss) | \n",
    "| :--- | :--- | :--- | \n",
    "| Baseline (词袋+逻辑回归) | `1.29503` | `1.28668` | \n",
    "| Embedding (MiniLM) | `1.08498` | `1.08496` (请替换为你的真实值) | "
   ]
  }
 ],
 "metadata": {
  "kaggle": {
   "accelerator": "gpu",
   "dataSources": [
    {
     "databundleVersionId": 9809560,
     "isSourceIdPinned": false,
     "sourceId": 86518,
     "sourceType": "competition"
    },
    {
     "datasetId": 2804156,
     "sourceId": 4838716,
     "sourceType": "datasetVersion"
    }
   ],
   "dockerImageVersionId": 31154,
   "isGpuEnabled": true,
   "isInternetEnabled": false,
   "language": "python",
   "sourceType": "notebook"
  },
  "kernelspec": {
   "display_name": "Python 3",
   "language": "python",
   "name": "python3"
  },
  "language_info": {
   "codemirror_mode": {
    "name": "ipython",
    "version": 3
   },
   "file_extension": ".py",
   "mimetype": "text/x-python",
   "name": "python",
   "nbconvert_exporter": "python",
   "pygments_lexer": "ipython3",
   "version": "3.11.13"
  },
  "papermill": {
   "default_parameters": {},
   "duration": 729.56026,
   "end_time": "2025-10-24T15:48:42.210230",
   "environment_variables": {},
   "exception": null,
   "input_path": "__notebook__.ipynb",
   "output_path": "__notebook__.ipynb",
   "parameters": {},
   "start_time": "2025-10-24T15:36:32.649970",
   "version": "2.6.0"
  },
  "widgets": {
   "application/vnd.jupyter.widget-state+json": {
    "state": {
     "043a78a335b8415880dd0da806c09438": {
      "model_module": "@jupyter-widgets/controls",
      "model_module_version": "2.0.0",
      "model_name": "HTMLStyleModel",
      "state": {
       "_model_module": "@jupyter-widgets/controls",
       "_model_module_version": "2.0.0",
       "_model_name": "HTMLStyleModel",
       "_view_count": null,
       "_view_module": "@jupyter-widgets/base",
       "_view_module_version": "2.0.0",
       "_view_name": "StyleView",
       "background": null,
       "description_width": "",
       "font_size": null,
       "text_color": null
      }
     },
     "05302b7d73494a10a94a2dc0de65751c": {
      "model_module": "@jupyter-widgets/controls",
      "model_module_version": "2.0.0",
      "model_name": "HBoxModel",
      "state": {
       "_dom_classes": [],
       "_model_module": "@jupyter-widgets/controls",
       "_model_module_version": "2.0.0",
       "_model_name": "HBoxModel",
       "_view_count": null,
       "_view_module": "@jupyter-widgets/controls",
       "_view_module_version": "2.0.0",
       "_view_name": "HBoxView",
       "box_style": "",
       "children": [
        "IPY_MODEL_30183693c79345318e8a3ecc88348414",
        "IPY_MODEL_d7be2dc4d8624b5e8d1de337b338d139",
        "IPY_MODEL_68bf8f5642e9490e94ed810f704509d8"
       ],
       "layout": "IPY_MODEL_2357a40d47874ebbb699c9080d5280e2",
       "tabbable": null,
       "tooltip": null
      }
     },
     "118953ecbdf8484298f2a987ed6efe24": {
      "model_module": "@jupyter-widgets/base",
      "model_module_version": "2.0.0",
      "model_name": "LayoutModel",
      "state": {
       "_model_module": "@jupyter-widgets/base",
       "_model_module_version": "2.0.0",
       "_model_name": "LayoutModel",
       "_view_count": null,
       "_view_module": "@jupyter-widgets/base",
       "_view_module_version": "2.0.0",
       "_view_name": "LayoutView",
       "align_content": null,
       "align_items": null,
       "align_self": null,
       "border_bottom": null,
       "border_left": null,
       "border_right": null,
       "border_top": null,
       "bottom": null,
       "display": null,
       "flex": null,
       "flex_flow": null,
       "grid_area": null,
       "grid_auto_columns": null,
       "grid_auto_flow": null,
       "grid_auto_rows": null,
       "grid_column": null,
       "grid_gap": null,
       "grid_row": null,
       "grid_template_areas": null,
       "grid_template_columns": null,
       "grid_template_rows": null,
       "height": null,
       "justify_content": null,
       "justify_items": null,
       "left": null,
       "margin": null,
       "max_height": null,
       "max_width": null,
       "min_height": null,
       "min_width": null,
       "object_fit": null,
       "object_position": null,
       "order": null,
       "overflow": null,
       "padding": null,
       "right": null,
       "top": null,
       "visibility": null,
       "width": null
      }
     },
     "2357a40d47874ebbb699c9080d5280e2": {
      "model_module": "@jupyter-widgets/base",
      "model_module_version": "2.0.0",
      "model_name": "LayoutModel",
      "state": {
       "_model_module": "@jupyter-widgets/base",
       "_model_module_version": "2.0.0",
       "_model_name": "LayoutModel",
       "_view_count": null,
       "_view_module": "@jupyter-widgets/base",
       "_view_module_version": "2.0.0",
       "_view_name": "LayoutView",
       "align_content": null,
       "align_items": null,
       "align_self": null,
       "border_bottom": null,
       "border_left": null,
       "border_right": null,
       "border_top": null,
       "bottom": null,
       "display": null,
       "flex": null,
       "flex_flow": null,
       "grid_area": null,
       "grid_auto_columns": null,
       "grid_auto_flow": null,
       "grid_auto_rows": null,
       "grid_column": null,
       "grid_gap": null,
       "grid_row": null,
       "grid_template_areas": null,
       "grid_template_columns": null,
       "grid_template_rows": null,
       "height": null,
       "justify_content": null,
       "justify_items": null,
       "left": null,
       "margin": null,
       "max_height": null,
       "max_width": null,
       "min_height": null,
       "min_width": null,
       "object_fit": null,
       "object_position": null,
       "order": null,
       "overflow": null,
       "padding": null,
       "right": null,
       "top": null,
       "visibility": null,
       "width": null
      }
     },
     "30183693c79345318e8a3ecc88348414": {
      "model_module": "@jupyter-widgets/controls",
      "model_module_version": "2.0.0",
      "model_name": "HTMLModel",
      "state": {
       "_dom_classes": [],
       "_model_module": "@jupyter-widgets/controls",
       "_model_module_version": "2.0.0",
       "_model_name": "HTMLModel",
       "_view_count": null,
       "_view_module": "@jupyter-widgets/controls",
       "_view_module_version": "2.0.0",
       "_view_name": "HTMLView",
       "description": "",
       "description_allow_html": false,
       "layout": "IPY_MODEL_c9157cbfa1ba4594b629202dc1696be5",
       "placeholder": "​",
       "style": "IPY_MODEL_af42f9b294fe44908834110a6ead97da",
       "tabbable": null,
       "tooltip": null,
       "value": "Batches: 100%"
      }
     },
     "312978b638f14ebf8710a1f531640f0c": {
      "model_module": "@jupyter-widgets/controls",
      "model_module_version": "2.0.0",
      "model_name": "HTMLModel",
      "state": {
       "_dom_classes": [],
       "_model_module": "@jupyter-widgets/controls",
       "_model_module_version": "2.0.0",
       "_model_name": "HTMLModel",
       "_view_count": null,
       "_view_module": "@jupyter-widgets/controls",
       "_view_module_version": "2.0.0",
       "_view_name": "HTMLView",
       "description": "",
       "description_allow_html": false,
       "layout": "IPY_MODEL_aabf400781bd4cf58db206b42e800e83",
       "placeholder": "​",
       "style": "IPY_MODEL_7061544087ae43a5b4c76af65cb5e22c",
       "tabbable": null,
       "tooltip": null,
       "value": " 450/450 [03:23&lt;00:00, 16.85it/s]"
      }
     },
     "4666507cf9324c2993e61b3deda2698f": {
      "model_module": "@jupyter-widgets/controls",
      "model_module_version": "2.0.0",
      "model_name": "HTMLModel",
      "state": {
       "_dom_classes": [],
       "_model_module": "@jupyter-widgets/controls",
       "_model_module_version": "2.0.0",
       "_model_name": "HTMLModel",
       "_view_count": null,
       "_view_module": "@jupyter-widgets/controls",
       "_view_module_version": "2.0.0",
       "_view_name": "HTMLView",
       "description": "",
       "description_allow_html": false,
       "layout": "IPY_MODEL_cd40b42fbd2942cba8539003c50c5fc9",
       "placeholder": "​",
       "style": "IPY_MODEL_043a78a335b8415880dd0da806c09438",
       "tabbable": null,
       "tooltip": null,
       "value": "Batches: 100%"
      }
     },
     "64fca46ebcdd4d2d93e578aba7052b74": {
      "model_module": "@jupyter-widgets/base",
      "model_module_version": "2.0.0",
      "model_name": "LayoutModel",
      "state": {
       "_model_module": "@jupyter-widgets/base",
       "_model_module_version": "2.0.0",
       "_model_name": "LayoutModel",
       "_view_count": null,
       "_view_module": "@jupyter-widgets/base",
       "_view_module_version": "2.0.0",
       "_view_name": "LayoutView",
       "align_content": null,
       "align_items": null,
       "align_self": null,
       "border_bottom": null,
       "border_left": null,
       "border_right": null,
       "border_top": null,
       "bottom": null,
       "display": null,
       "flex": null,
       "flex_flow": null,
       "grid_area": null,
       "grid_auto_columns": null,
       "grid_auto_flow": null,
       "grid_auto_rows": null,
       "grid_column": null,
       "grid_gap": null,
       "grid_row": null,
       "grid_template_areas": null,
       "grid_template_columns": null,
       "grid_template_rows": null,
       "height": null,
       "justify_content": null,
       "justify_items": null,
       "left": null,
       "margin": null,
       "max_height": null,
       "max_width": null,
       "min_height": null,
       "min_width": null,
       "object_fit": null,
       "object_position": null,
       "order": null,
       "overflow": null,
       "padding": null,
       "right": null,
       "top": null,
       "visibility": null,
       "width": null
      }
     },
     "68bf8f5642e9490e94ed810f704509d8": {
      "model_module": "@jupyter-widgets/controls",
      "model_module_version": "2.0.0",
      "model_name": "HTMLModel",
      "state": {
       "_dom_classes": [],
       "_model_module": "@jupyter-widgets/controls",
       "_model_module_version": "2.0.0",
       "_model_name": "HTMLModel",
       "_view_count": null,
       "_view_module": "@jupyter-widgets/controls",
       "_view_module_version": "2.0.0",
       "_view_name": "HTMLView",
       "description": "",
       "description_allow_html": false,
       "layout": "IPY_MODEL_64fca46ebcdd4d2d93e578aba7052b74",
       "placeholder": "​",
       "style": "IPY_MODEL_e119b1124b864ed794ecf204ff4219bb",
       "tabbable": null,
       "tooltip": null,
       "value": " 1/1 [00:00&lt;00:00, 37.35it/s]"
      }
     },
     "7061544087ae43a5b4c76af65cb5e22c": {
      "model_module": "@jupyter-widgets/controls",
      "model_module_version": "2.0.0",
      "model_name": "HTMLStyleModel",
      "state": {
       "_model_module": "@jupyter-widgets/controls",
       "_model_module_version": "2.0.0",
       "_model_name": "HTMLStyleModel",
       "_view_count": null,
       "_view_module": "@jupyter-widgets/base",
       "_view_module_version": "2.0.0",
       "_view_name": "StyleView",
       "background": null,
       "description_width": "",
       "font_size": null,
       "text_color": null
      }
     },
     "aabf400781bd4cf58db206b42e800e83": {
      "model_module": "@jupyter-widgets/base",
      "model_module_version": "2.0.0",
      "model_name": "LayoutModel",
      "state": {
       "_model_module": "@jupyter-widgets/base",
       "_model_module_version": "2.0.0",
       "_model_name": "LayoutModel",
       "_view_count": null,
       "_view_module": "@jupyter-widgets/base",
       "_view_module_version": "2.0.0",
       "_view_name": "LayoutView",
       "align_content": null,
       "align_items": null,
       "align_self": null,
       "border_bottom": null,
       "border_left": null,
       "border_right": null,
       "border_top": null,
       "bottom": null,
       "display": null,
       "flex": null,
       "flex_flow": null,
       "grid_area": null,
       "grid_auto_columns": null,
       "grid_auto_flow": null,
       "grid_auto_rows": null,
       "grid_column": null,
       "grid_gap": null,
       "grid_row": null,
       "grid_template_areas": null,
       "grid_template_columns": null,
       "grid_template_rows": null,
       "height": null,
       "justify_content": null,
       "justify_items": null,
       "left": null,
       "margin": null,
       "max_height": null,
       "max_width": null,
       "min_height": null,
       "min_width": null,
       "object_fit": null,
       "object_position": null,
       "order": null,
       "overflow": null,
       "padding": null,
       "right": null,
       "top": null,
       "visibility": null,
       "width": null
      }
     },
     "af42f9b294fe44908834110a6ead97da": {
      "model_module": "@jupyter-widgets/controls",
      "model_module_version": "2.0.0",
      "model_name": "HTMLStyleModel",
      "state": {
       "_model_module": "@jupyter-widgets/controls",
       "_model_module_version": "2.0.0",
       "_model_name": "HTMLStyleModel",
       "_view_count": null,
       "_view_module": "@jupyter-widgets/base",
       "_view_module_version": "2.0.0",
       "_view_name": "StyleView",
       "background": null,
       "description_width": "",
       "font_size": null,
       "text_color": null
      }
     },
     "b8026d0ba6fd452c8eeb6d3179021fe9": {
      "model_module": "@jupyter-widgets/base",
      "model_module_version": "2.0.0",
      "model_name": "LayoutModel",
      "state": {
       "_model_module": "@jupyter-widgets/base",
       "_model_module_version": "2.0.0",
       "_model_name": "LayoutModel",
       "_view_count": null,
       "_view_module": "@jupyter-widgets/base",
       "_view_module_version": "2.0.0",
       "_view_name": "LayoutView",
       "align_content": null,
       "align_items": null,
       "align_self": null,
       "border_bottom": null,
       "border_left": null,
       "border_right": null,
       "border_top": null,
       "bottom": null,
       "display": null,
       "flex": null,
       "flex_flow": null,
       "grid_area": null,
       "grid_auto_columns": null,
       "grid_auto_flow": null,
       "grid_auto_rows": null,
       "grid_column": null,
       "grid_gap": null,
       "grid_row": null,
       "grid_template_areas": null,
       "grid_template_columns": null,
       "grid_template_rows": null,
       "height": null,
       "justify_content": null,
       "justify_items": null,
       "left": null,
       "margin": null,
       "max_height": null,
       "max_width": null,
       "min_height": null,
       "min_width": null,
       "object_fit": null,
       "object_position": null,
       "order": null,
       "overflow": null,
       "padding": null,
       "right": null,
       "top": null,
       "visibility": null,
       "width": null
      }
     },
     "c9157cbfa1ba4594b629202dc1696be5": {
      "model_module": "@jupyter-widgets/base",
      "model_module_version": "2.0.0",
      "model_name": "LayoutModel",
      "state": {
       "_model_module": "@jupyter-widgets/base",
       "_model_module_version": "2.0.0",
       "_model_name": "LayoutModel",
       "_view_count": null,
       "_view_module": "@jupyter-widgets/base",
       "_view_module_version": "2.0.0",
       "_view_name": "LayoutView",
       "align_content": null,
       "align_items": null,
       "align_self": null,
       "border_bottom": null,
       "border_left": null,
       "border_right": null,
       "border_top": null,
       "bottom": null,
       "display": null,
       "flex": null,
       "flex_flow": null,
       "grid_area": null,
       "grid_auto_columns": null,
       "grid_auto_flow": null,
       "grid_auto_rows": null,
       "grid_column": null,
       "grid_gap": null,
       "grid_row": null,
       "grid_template_areas": null,
       "grid_template_columns": null,
       "grid_template_rows": null,
       "height": null,
       "justify_content": null,
       "justify_items": null,
       "left": null,
       "margin": null,
       "max_height": null,
       "max_width": null,
       "min_height": null,
       "min_width": null,
       "object_fit": null,
       "object_position": null,
       "order": null,
       "overflow": null,
       "padding": null,
       "right": null,
       "top": null,
       "visibility": null,
       "width": null
      }
     },
     "cd40b42fbd2942cba8539003c50c5fc9": {
      "model_module": "@jupyter-widgets/base",
      "model_module_version": "2.0.0",
      "model_name": "LayoutModel",
      "state": {
       "_model_module": "@jupyter-widgets/base",
       "_model_module_version": "2.0.0",
       "_model_name": "LayoutModel",
       "_view_count": null,
       "_view_module": "@jupyter-widgets/base",
       "_view_module_version": "2.0.0",
       "_view_name": "LayoutView",
       "align_content": null,
       "align_items": null,
       "align_self": null,
       "border_bottom": null,
       "border_left": null,
       "border_right": null,
       "border_top": null,
       "bottom": null,
       "display": null,
       "flex": null,
       "flex_flow": null,
       "grid_area": null,
       "grid_auto_columns": null,
       "grid_auto_flow": null,
       "grid_auto_rows": null,
       "grid_column": null,
       "grid_gap": null,
       "grid_row": null,
       "grid_template_areas": null,
       "grid_template_columns": null,
       "grid_template_rows": null,
       "height": null,
       "justify_content": null,
       "justify_items": null,
       "left": null,
       "margin": null,
       "max_height": null,
       "max_width": null,
       "min_height": null,
       "min_width": null,
       "object_fit": null,
       "object_position": null,
       "order": null,
       "overflow": null,
       "padding": null,
       "right": null,
       "top": null,
       "visibility": null,
       "width": null
      }
     },
     "d03451a5732c41829eabb5385f1e0000": {
      "model_module": "@jupyter-widgets/controls",
      "model_module_version": "2.0.0",
      "model_name": "FloatProgressModel",
      "state": {
       "_dom_classes": [],
       "_model_module": "@jupyter-widgets/controls",
       "_model_module_version": "2.0.0",
       "_model_name": "FloatProgressModel",
       "_view_count": null,
       "_view_module": "@jupyter-widgets/controls",
       "_view_module_version": "2.0.0",
       "_view_name": "ProgressView",
       "bar_style": "success",
       "description": "",
       "description_allow_html": false,
       "layout": "IPY_MODEL_b8026d0ba6fd452c8eeb6d3179021fe9",
       "max": 450,
       "min": 0,
       "orientation": "horizontal",
       "style": "IPY_MODEL_d81a666ed60745e6b4853e6edf238cfb",
       "tabbable": null,
       "tooltip": null,
       "value": 450
      }
     },
     "d7be2dc4d8624b5e8d1de337b338d139": {
      "model_module": "@jupyter-widgets/controls",
      "model_module_version": "2.0.0",
      "model_name": "FloatProgressModel",
      "state": {
       "_dom_classes": [],
       "_model_module": "@jupyter-widgets/controls",
       "_model_module_version": "2.0.0",
       "_model_name": "FloatProgressModel",
       "_view_count": null,
       "_view_module": "@jupyter-widgets/controls",
       "_view_module_version": "2.0.0",
       "_view_name": "ProgressView",
       "bar_style": "success",
       "description": "",
       "description_allow_html": false,
       "layout": "IPY_MODEL_e8fd271b53dc450d8d1f33b5e57fdaf6",
       "max": 1,
       "min": 0,
       "orientation": "horizontal",
       "style": "IPY_MODEL_e8de2cac119044e19b5eabf47dfa1d22",
       "tabbable": null,
       "tooltip": null,
       "value": 1
      }
     },
     "d81a666ed60745e6b4853e6edf238cfb": {
      "model_module": "@jupyter-widgets/controls",
      "model_module_version": "2.0.0",
      "model_name": "ProgressStyleModel",
      "state": {
       "_model_module": "@jupyter-widgets/controls",
       "_model_module_version": "2.0.0",
       "_model_name": "ProgressStyleModel",
       "_view_count": null,
       "_view_module": "@jupyter-widgets/base",
       "_view_module_version": "2.0.0",
       "_view_name": "StyleView",
       "bar_color": null,
       "description_width": ""
      }
     },
     "e119b1124b864ed794ecf204ff4219bb": {
      "model_module": "@jupyter-widgets/controls",
      "model_module_version": "2.0.0",
      "model_name": "HTMLStyleModel",
      "state": {
       "_model_module": "@jupyter-widgets/controls",
       "_model_module_version": "2.0.0",
       "_model_name": "HTMLStyleModel",
       "_view_count": null,
       "_view_module": "@jupyter-widgets/base",
       "_view_module_version": "2.0.0",
       "_view_name": "StyleView",
       "background": null,
       "description_width": "",
       "font_size": null,
       "text_color": null
      }
     },
     "e8de2cac119044e19b5eabf47dfa1d22": {
      "model_module": "@jupyter-widgets/controls",
      "model_module_version": "2.0.0",
      "model_name": "ProgressStyleModel",
      "state": {
       "_model_module": "@jupyter-widgets/controls",
       "_model_module_version": "2.0.0",
       "_model_name": "ProgressStyleModel",
       "_view_count": null,
       "_view_module": "@jupyter-widgets/base",
       "_view_module_version": "2.0.0",
       "_view_name": "StyleView",
       "bar_color": null,
       "description_width": ""
      }
     },
     "e8fd271b53dc450d8d1f33b5e57fdaf6": {
      "model_module": "@jupyter-widgets/base",
      "model_module_version": "2.0.0",
      "model_name": "LayoutModel",
      "state": {
       "_model_module": "@jupyter-widgets/base",
       "_model_module_version": "2.0.0",
       "_model_name": "LayoutModel",
       "_view_count": null,
       "_view_module": "@jupyter-widgets/base",
       "_view_module_version": "2.0.0",
       "_view_name": "LayoutView",
       "align_content": null,
       "align_items": null,
       "align_self": null,
       "border_bottom": null,
       "border_left": null,
       "border_right": null,
       "border_top": null,
       "bottom": null,
       "display": null,
       "flex": null,
       "flex_flow": null,
       "grid_area": null,
       "grid_auto_columns": null,
       "grid_auto_flow": null,
       "grid_auto_rows": null,
       "grid_column": null,
       "grid_gap": null,
       "grid_row": null,
       "grid_template_areas": null,
       "grid_template_columns": null,
       "grid_template_rows": null,
       "height": null,
       "justify_content": null,
       "justify_items": null,
       "left": null,
       "margin": null,
       "max_height": null,
       "max_width": null,
       "min_height": null,
       "min_width": null,
       "object_fit": null,
       "object_position": null,
       "order": null,
       "overflow": null,
       "padding": null,
       "right": null,
       "top": null,
       "visibility": null,
       "width": null
      }
     },
     "eec8ed3b0a5042ccb892473ce9ce06bc": {
      "model_module": "@jupyter-widgets/controls",
      "model_module_version": "2.0.0",
      "model_name": "HBoxModel",
      "state": {
       "_dom_classes": [],
       "_model_module": "@jupyter-widgets/controls",
       "_model_module_version": "2.0.0",
       "_model_name": "HBoxModel",
       "_view_count": null,
       "_view_module": "@jupyter-widgets/controls",
       "_view_module_version": "2.0.0",
       "_view_name": "HBoxView",
       "box_style": "",
       "children": [
        "IPY_MODEL_4666507cf9324c2993e61b3deda2698f",
        "IPY_MODEL_d03451a5732c41829eabb5385f1e0000",
        "IPY_MODEL_312978b638f14ebf8710a1f531640f0c"
       ],
       "layout": "IPY_MODEL_118953ecbdf8484298f2a987ed6efe24",
       "tabbable": null,
       "tooltip": null
      }
     }
    },
    "version_major": 2,
    "version_minor": 0
   }
  }
 },
 "nbformat": 4,
 "nbformat_minor": 5
}
